{
  "nbformat": 4,
  "nbformat_minor": 0,
  "metadata": {
    "colab": {
      "provenance": [],
      "authorship_tag": "ABX9TyO5p8rQX0VKJrk0/xgw8FTf",
      "include_colab_link": true
    },
    "kernelspec": {
      "name": "python3",
      "display_name": "Python 3"
    },
    "language_info": {
      "name": "python"
    }
  },
  "cells": [
    {
      "cell_type": "markdown",
      "metadata": {
        "id": "view-in-github",
        "colab_type": "text"
      },
      "source": [
        "<a href=\"https://colab.research.google.com/github/danilouco2000/danilouco2000-Exercicios-aulas-python-educafrotech/blob/main/Exerc%C3%ADcios_fun%C3%A7%C3%B5es_python.ipynb\" target=\"_parent\"><img src=\"https://colab.research.google.com/assets/colab-badge.svg\" alt=\"Open In Colab\"/></a>"
      ]
    },
    {
      "cell_type": "code",
      "execution_count": null,
      "metadata": {
        "colab": {
          "base_uri": "https://localhost:8080/"
        },
        "id": "KXFGAAp3oTrz",
        "outputId": "4399b03d-6385-4fe0-ff6b-3ccfd0de245a"
      },
      "outputs": [
        {
          "output_type": "stream",
          "name": "stdout",
          "text": [
            "Insira aqui o seu nome somente com letras para que você possa comprar fiado: Danilin Rei delas :D\n",
            "Nome inválido\n"
          ]
        }
      ],
      "source": [
        "# 1. 🛒 Cadastro de Cliente na Feira Livre\n",
        "# Contexto:\n",
        "# Dona Neide está montando um sistema simples para cadastrar clientes que compram fiado na sua barraca de frutas.\n",
        "# Ela quer garantir que o campo nome do cliente contenha apenas letras, sem números ou símbolos.\n",
        "\n",
        "# Problema:\n",
        "# Implemente uma verificação usando isalpha() para garantir que nomes como “João123” ou “Maria@” sejam recusados.\n",
        "\n",
        "clientes_fiado = str(input(\"Insira aqui o seu nome somente com letras para que você possa comprar fiado: \"))\n",
        "\n",
        "verificador = clientes_fiado.isalpha()\n",
        "\n",
        "if verificador:\n",
        "  print(\"Tudo certo, agora não esqueça de pagar, porque você não vai querer que alguém aleatório acidentalmente acerte um tiro na sua cabeça. Tenha um bom dia :D\")\n",
        "else:\n",
        "  print(\"Nome inválido\")"
      ]
    },
    {
      "cell_type": "code",
      "source": [
        "# 2. 🎟️ Senha do Wi-Fi da Pizzaria do Zé\n",
        "# Contexto:\n",
        "# O Zé deixou a senha do Wi-Fi \"senh@123\" pra galera, mas o sistema só aceita senhas alfanuméricas (letras e números, sem símbolos).\n",
        "\n",
        "# Problema:\n",
        "# Crie uma função que verifique se a senha passada por ele é válida usando isalnum().\n",
        "# Se não for, gere uma sugestão nova sem caracteres especiais.\n",
        "\n",
        "senha_pizza_ze = \"senh@123\"\n",
        "\n",
        "verificador = senha_pizza_ze.isalnum()\n",
        "\n",
        "if verificador:\n",
        "  print(\"Senha válida\")\n",
        "else:\n",
        "  nova_senha = senha_pizza_ze.replace(\"@\", \"a\")\n",
        "  print(f\"Senha inválida, você não quis dizer '{nova_senha}' ?\")"
      ],
      "metadata": {
        "colab": {
          "base_uri": "https://localhost:8080/"
        },
        "id": "2Dz_-gSCr2_n",
        "outputId": "55a837d4-1bd8-4083-94c0-6b2354530616"
      },
      "execution_count": null,
      "outputs": [
        {
          "output_type": "stream",
          "name": "stdout",
          "text": [
            "Senha inválida, você não quis dizer 'senha123' ?\n"
          ]
        }
      ]
    },
    {
      "cell_type": "code",
      "source": [
        "# 3. 🚌 Cartão de Transporte da Tia Sandra\n",
        "# Contexto:\n",
        "# Tia Sandra quer digitalizar os cartões de transporte dos alunos. Cada cartão tem um código composto apenas por números de 0 a 9.\n",
        "\n",
        "# Problema:\n",
        "# Verifique com isdecimal() se o código digitado pelo aluno é válido.\n",
        "# Ex: \"00347\" → válido, \"12A45\" → inválido.\n",
        "\n",
        "codigo_transporte = str(input(\"Insira aqui o código do cartão de transporte: \"))\n",
        "\n",
        "verificador = codigo_transporte.isdecimal()\n",
        "\n",
        "if verificador:\n",
        "  print(\"Cartão válido\")\n",
        "else:\n",
        "  print(\"Cartão inválido\")"
      ],
      "metadata": {
        "colab": {
          "base_uri": "https://localhost:8080/"
        },
        "id": "jzP-U7j4t8Lf",
        "outputId": "8d7ea2b4-7f2d-4e80-bd52-c369bceb55a4"
      },
      "execution_count": null,
      "outputs": [
        {
          "output_type": "stream",
          "name": "stdout",
          "text": [
            "Insira aqui o código do cartão de transporte: 5465\n",
            "Cartão válido\n"
          ]
        }
      ]
    },
    {
      "cell_type": "code",
      "source": [
        "# 4. 🏫 Chamada Escolar com Números?\n",
        "# Contexto:\n",
        "# O professor Carlos está criando uma chamada automatizada. Alguns alunos digitam o nome com número: “Luc4s”, “An4”.\n",
        "\n",
        "# Problema:\n",
        "# Use isalpha() para validar se o nome do aluno contém apenas letras. Se não, retorne uma sugestão com as correções possíveis.\n",
        "\n",
        "nome_chamada = str(input(\"Insira seu nome aluno: \"))\n",
        "\n",
        "verificador = nome_chamada.isalpha()\n",
        "\n",
        "if verificador:\n",
        "  print(\"Nome válido\")\n",
        "else:\n",
        "  print(\"Nome inválido, tente novamente sem números ou caracteres especiais\")"
      ],
      "metadata": {
        "colab": {
          "base_uri": "https://localhost:8080/"
        },
        "id": "i0Wgm8skughT",
        "outputId": "303546ee-3580-4446-b6b4-590701ea9e84"
      },
      "execution_count": null,
      "outputs": [
        {
          "output_type": "stream",
          "name": "stdout",
          "text": [
            "Insira seu nome aluno: D4n1l0\n",
            "Nome inválido, você não quis dizer D4n1l0 ?\n"
          ]
        }
      ]
    },
    {
      "cell_type": "code",
      "source": [
        "# 5. 🏦 Código de Verificação Bancária\n",
        "# Contexto:\n",
        "# O banco do bairro exige que os códigos de verificação sejam apenas números, mas o gerente aceita códigos romanos (tipo “Ⅳ”) por engano.\n",
        "\n",
        "# Problema:\n",
        "# Use isdigit() e isnumeric() para identificar quando o usuário está digitando número válido, e quando está inventando moda com números romanos.\n",
        "\n",
        "codigo_verificacao = input(\"Insira o código de verificação bancária: \")\n",
        "\n",
        "verificador = codigo_verificacao.isdigit()\n",
        "\n",
        "if verificador:\n",
        "  print(\"Código válido\")\n",
        "elif codigo_verificacao.isnumeric():\n",
        "  print(\"O código não pode ter números romanos, digite de novo apenas com números puros\")\n",
        "else:\n",
        "  print(\"Código inválido, o código deve conter apenas números puros, excluindo até números romanos ou decimais\")"
      ],
      "metadata": {
        "colab": {
          "base_uri": "https://localhost:8080/"
        },
        "id": "4EghbSCLvr-y",
        "outputId": "055f4715-a6d5-4a67-bfa3-759cb600fe95"
      },
      "execution_count": null,
      "outputs": [
        {
          "output_type": "stream",
          "name": "stdout",
          "text": [
            "Insira o código de verificação bancária: IV\n",
            "Código inválido, o código deve conter apenas números puros, excluindo até números romanos ou decimais\n"
          ]
        }
      ]
    },
    {
      "cell_type": "code",
      "source": [
        "# 6. 🪙 Máquina de Vending da Academia do Alemão\n",
        "# Contexto:\n",
        "# O Alemão colocou uma vending machine na academia e quer que o sistema aceite somente dígitos puros no pagamento por SMS.\n",
        "\n",
        "# Problema:\n",
        "# Valide se o código digitado é composto por dígitos reais (nada de fração ou números romanos) usando isdigit().\n",
        "\n",
        "codigo_vending = str(input(\"Insira o código de verificação da vending machine: \"))\n",
        "\n",
        "verificador = codigo_vending.isdigit()\n",
        "\n",
        "if verificador:\n",
        "  print(\"Código válido\")\n",
        "else:\n",
        "  print(\"Código inválido, o código deve conter apenas números puros, excluindo até números romanos ou decimais\")"
      ],
      "metadata": {
        "colab": {
          "base_uri": "https://localhost:8080/"
        },
        "id": "qobnHeDCwk1w",
        "outputId": "66c8f550-aadb-49bb-f6fd-24b84d3d253e"
      },
      "execution_count": null,
      "outputs": [
        {
          "output_type": "stream",
          "name": "stdout",
          "text": [
            "Insira o código de verificação da vending machine: 45227858\n",
            "Código válido\n"
          ]
        }
      ]
    },
    {
      "cell_type": "code",
      "source": [
        "# 7. 📩 Formulário da ONG: Nome com Emojis?\n",
        "# Contexto:\n",
        "# A ONG “Coração na Rua” está cadastrando voluntários, mas alguém digitou \"João ❤️\".\n",
        "\n",
        "# Problema:\n",
        "# Use isalpha() para validar nomes. Depois, mostre uma mensagem amigável explicando por que não pode usar emojis ou símbolos no nome.\n",
        "\n",
        "nome_ong = str(input(\"Insira seu nome: \"))\n",
        "\n",
        "verificador = nome_ong.isalpha()\n",
        "\n",
        "if verificador:\n",
        "  print(\"Nome válido\")\n",
        "else:\n",
        "  print(\"Nome inválido, tente novamente sem emojis ou símbolos, pois o sistema aceita apenas letras. Obrigado :D !!!\")"
      ],
      "metadata": {
        "colab": {
          "base_uri": "https://localhost:8080/"
        },
        "id": "jrg7KR7py5VN",
        "outputId": "b30fc9c6-9c79-4029-cbee-3bc076efa326"
      },
      "execution_count": null,
      "outputs": [
        {
          "output_type": "stream",
          "name": "stdout",
          "text": [
            "Insira seu nome: Danilin :D\n",
            "Nome inválido, tente novamente sem emojis ou símbolos, pois o sistema aceita apenas letras. Obrigado :D !!!\n"
          ]
        }
      ]
    },
    {
      "cell_type": "code",
      "source": [
        "# 8. 🎨 Concurso Cultural: Texto com Palavra-Chave\n",
        "# Contexto:\n",
        "# Um concurso cultural vai premiar quem escrever a melhor frase com a palavra “natureza”.\n",
        "\n",
        "# Problema:\n",
        "# Crie um sistema que use index() para detectar se a palavra “natureza” está no texto. Se não estiver, rejeite a frase com uma mensagem.\n",
        "\n",
        "frase = str(input(\"Insira uma frase que contenha a palavra 'natureza' para concorrer ao concurso: \"))\n",
        "\n",
        "try:\n",
        "\n",
        "  verificador = frase.index(\"natureza\")\n",
        "\n",
        "except(ValueError):\n",
        "  print(\"Sua frase não contém a palavra 'natureza'. Se ainda quiser concorrer no concurso, por favor, envie outra frase contendo a palavra 'natureza'.\")\n",
        "else:\n",
        "  print(\"Muito obrigado por enviar sua frase. Te desejamos sorte no concurso!\")"
      ],
      "metadata": {
        "colab": {
          "base_uri": "https://localhost:8080/"
        },
        "id": "Vg1MBmZjzQzs",
        "outputId": "3617315d-b971-47d2-e789-a735e477dc52"
      },
      "execution_count": null,
      "outputs": [
        {
          "output_type": "stream",
          "name": "stdout",
          "text": [
            "Insira uma frase que contenha a palavra 'natureza' para concorrer ao concurso: Oi\n",
            "Sua frase não contém a palavra 'natureza'. Se ainda quiser concorrer no concurso, por favor, envie outra frase contendo a palavra 'natureza'.\n"
          ]
        }
      ]
    },
    {
      "cell_type": "code",
      "source": [
        "# 9. 🧾 Validação de Nota Fiscal Eletrônica\n",
        "# Contexto:\n",
        "# O sistema da mercearia precisa garantir que o campo “Código da Nota” seja só numérico.\n",
        "\n",
        "# Problema:\n",
        "# Implemente uma verificação com isdecimal() e retorne um erro se o código contiver letras ou símbolos.\n",
        "\n",
        "codigo_nota = str(input(\"Insira o código da nota fiscal: \"))\n",
        "\n",
        "verificador = codigo_nota.isdecimal()\n",
        "\n",
        "if verificador:\n",
        "  print(\"Código válido\")\n",
        "else:\n",
        "  print(\"Código inválido, o código deve conter apenas números puros, excluindo até números romanos ou decimais\")"
      ],
      "metadata": {
        "colab": {
          "base_uri": "https://localhost:8080/"
        },
        "id": "pb0MT59e1Jiy",
        "outputId": "b4930f0f-a097-4f84-c650-54d0a2a79ea7"
      },
      "execution_count": null,
      "outputs": [
        {
          "output_type": "stream",
          "name": "stdout",
          "text": [
            "Insira o código da nota fiscal: 1438486,6384\n",
            "Código inválido, o código deve conter apenas números puros, excluindo até números romanos ou decimais\n"
          ]
        }
      ]
    },
    {
      "cell_type": "code",
      "source": [
        "# 10. 📖 Catálogo de Livros da Biblioteca Comunitária\n",
        "# Contexto:\n",
        "# Cada livro tem um código misto, tipo “LIV1234”. A bibliotecária quer garantir que todos os códigos sejam alfanuméricos, sem traços, espaços ou símbolos.\n",
        "\n",
        "# Problema:\n",
        "# Valide o código com isalnum().\n",
        "# Depois, diga se ele está de acordo com o padrão e, se não estiver, sugira uma correção.\n",
        "\n",
        "import re\n",
        "\n",
        "codigo_livro = str(input(\"Insira o código do livro: \"))\n",
        "\n",
        "verificador = codigo_livro.isalnum()\n",
        "\n",
        "if verificador:\n",
        "  print(\"Código válido\")\n",
        "else:\n",
        "  codigo_livro_corrigido = re.sub(r'[^a-zA-Z0-9\\s]', '', codigo_livro)\n",
        "  print(f\"Código inválido, você não quis dizer '{codigo_livro_corrigido}' ?\")"
      ],
      "metadata": {
        "colab": {
          "base_uri": "https://localhost:8080/"
        },
        "id": "E6Il6gEi42Ew",
        "outputId": "5fd4c4cb-4204-4b53-98e8-93a7cfd4ea99"
      },
      "execution_count": null,
      "outputs": [
        {
          "output_type": "stream",
          "name": "stdout",
          "text": [
            "Insira o código do livro: livro_1234@5\n",
            "Código inválido, você não quis dizer 'livro12345' ?\n"
          ]
        }
      ]
    }
  ]
}