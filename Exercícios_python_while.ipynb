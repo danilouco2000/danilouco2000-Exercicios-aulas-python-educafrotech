{
  "nbformat": 4,
  "nbformat_minor": 0,
  "metadata": {
    "colab": {
      "provenance": [],
      "authorship_tag": "ABX9TyMKMldNSE8XR7W6uhHKK/H8"
    },
    "kernelspec": {
      "name": "python3",
      "display_name": "Python 3"
    },
    "language_info": {
      "name": "python"
    }
  },
  "cells": [
    {
      "cell_type": "code",
      "execution_count": null,
      "metadata": {
        "colab": {
          "base_uri": "https://localhost:8080/"
        },
        "id": "d5Db9_28olIc",
        "outputId": "2fa592fb-dc5b-4e76-d66c-873549fd7efe"
      },
      "outputs": [
        {
          "output_type": "stream",
          "name": "stdout",
          "text": [
            "0\n",
            "1\n",
            "2\n",
            "3\n",
            "4\n",
            "5\n",
            "6\n",
            "7\n",
            "8\n",
            "9\n",
            "10\n"
          ]
        }
      ],
      "source": [
        "# CONTE DO 0 AO 10 COM WHILE\n",
        "\n",
        "numero = 0\n",
        "\n",
        "while numero <= 10:\n",
        "  print(numero)\n",
        "  numero += 1"
      ]
    },
    {
      "cell_type": "code",
      "source": [
        "# CONTE DO 0 AO 10 DE 2 EM 2 COM WHILE\n",
        "\n",
        "numero = 0\n",
        "\n",
        "while numero <= 10:\n",
        "  print(numero)\n",
        "  numero += 2"
      ],
      "metadata": {
        "colab": {
          "base_uri": "https://localhost:8080/"
        },
        "id": "WZ7p2bpVo2Wb",
        "outputId": "e115209a-5bd3-4b02-9490-238f30a6b62b"
      },
      "execution_count": null,
      "outputs": [
        {
          "output_type": "stream",
          "name": "stdout",
          "text": [
            "0\n",
            "2\n",
            "4\n",
            "6\n",
            "8\n",
            "10\n"
          ]
        }
      ]
    },
    {
      "cell_type": "code",
      "source": [
        "# FAÇA AS TABUADAS DO 1 AO 3 USANDO WHILE\n",
        "\n",
        "numero1 = 1\n",
        "numero2 = 1\n",
        "\n",
        "while numero1 <= 3:\n",
        "  print(f'''\n",
        "Tabuada do {numero1}\n",
        "  ''')\n",
        "\n",
        "  while numero2 <= 10:\n",
        "    print(f'{numero1} x {numero2} = {numero1 * numero2}')\n",
        "    numero2 += 1\n",
        "  numero2 = 1\n",
        "  numero1 += 1\n"
      ],
      "metadata": {
        "colab": {
          "base_uri": "https://localhost:8080/"
        },
        "id": "RmsZHp99pu5s",
        "outputId": "bd3086d9-dda4-401d-999a-55572d13ac6e"
      },
      "execution_count": 1,
      "outputs": [
        {
          "output_type": "stream",
          "name": "stdout",
          "text": [
            "\n",
            "Tabuada do 1\n",
            "  \n",
            "1 x 1 = 1\n",
            "1 x 2 = 2\n",
            "1 x 3 = 3\n",
            "1 x 4 = 4\n",
            "1 x 5 = 5\n",
            "1 x 6 = 6\n",
            "1 x 7 = 7\n",
            "1 x 8 = 8\n",
            "1 x 9 = 9\n",
            "1 x 10 = 10\n",
            "\n",
            "Tabuada do 2\n",
            "  \n",
            "2 x 1 = 2\n",
            "2 x 2 = 4\n",
            "2 x 3 = 6\n",
            "2 x 4 = 8\n",
            "2 x 5 = 10\n",
            "2 x 6 = 12\n",
            "2 x 7 = 14\n",
            "2 x 8 = 16\n",
            "2 x 9 = 18\n",
            "2 x 10 = 20\n",
            "\n",
            "Tabuada do 3\n",
            "  \n",
            "3 x 1 = 3\n",
            "3 x 2 = 6\n",
            "3 x 3 = 9\n",
            "3 x 4 = 12\n",
            "3 x 5 = 15\n",
            "3 x 6 = 18\n",
            "3 x 7 = 21\n",
            "3 x 8 = 24\n",
            "3 x 9 = 27\n",
            "3 x 10 = 30\n"
          ]
        }
      ]
    },
    {
      "cell_type": "code",
      "source": [
        "numero1 = 1\n",
        "numero2 = 1\n",
        "tabuada = f'''\n",
        "Tabuada do {numero1}\n",
        "  '''\n",
        "\n",
        "\n",
        "while numero1 <= 3:\n",
        "  print(numero1, end=\" \")\n",
        "\n",
        "  while numero2 <= 10:\n",
        "    print(f'{numero1} x {numero2} = {numero1 * numero2}')\n",
        "    numero2 += 1\n",
        "  numero2 = 1\n",
        "  numero1 += 1"
      ],
      "metadata": {
        "colab": {
          "base_uri": "https://localhost:8080/"
        },
        "id": "ffxqRl8BwXD9",
        "outputId": "8f1a01a8-8bbf-4855-cbab-d13ae27731a6"
      },
      "execution_count": null,
      "outputs": [
        {
          "output_type": "stream",
          "name": "stdout",
          "text": [
            "1 1 x 1 = 1\n",
            "1 x 2 = 2\n",
            "1 x 3 = 3\n",
            "1 x 4 = 4\n",
            "1 x 5 = 5\n",
            "1 x 6 = 6\n",
            "1 x 7 = 7\n",
            "1 x 8 = 8\n",
            "1 x 9 = 9\n",
            "1 x 10 = 10\n",
            "2 2 x 1 = 2\n",
            "2 x 2 = 4\n",
            "2 x 3 = 6\n",
            "2 x 4 = 8\n",
            "2 x 5 = 10\n",
            "2 x 6 = 12\n",
            "2 x 7 = 14\n",
            "2 x 8 = 16\n",
            "2 x 9 = 18\n",
            "2 x 10 = 20\n",
            "3 3 x 1 = 3\n",
            "3 x 2 = 6\n",
            "3 x 3 = 9\n",
            "3 x 4 = 12\n",
            "3 x 5 = 15\n",
            "3 x 6 = 18\n",
            "3 x 7 = 21\n",
            "3 x 8 = 24\n",
            "3 x 9 = 27\n",
            "3 x 10 = 30\n"
          ]
        }
      ]
    },
    {
      "cell_type": "code",
      "source": [
        "# FAÇA AS TABUADAS DO 1 A0 6\n",
        "\n",
        "numero1 = 1\n",
        "numero2 = 1\n",
        "\n",
        "while numero1 <= 6:\n",
        "  print(f'''\n",
        "Tabuada do {numero1}\n",
        "  ''')\n",
        "  while numero2 <= 10:\n",
        "    print(f'{numero1} x {numero2} = {numero1 * numero2}')\n",
        "    numero2 += 1\n",
        "  numero2 = 1\n",
        "  numero1 += 1"
      ],
      "metadata": {
        "colab": {
          "base_uri": "https://localhost:8080/"
        },
        "id": "Yhz4rqAAyGNm",
        "outputId": "c4849126-f409-4fff-9518-26bc02fb9c54"
      },
      "execution_count": null,
      "outputs": [
        {
          "output_type": "stream",
          "name": "stdout",
          "text": [
            "\n",
            "Tabuada do 1\n",
            "  \n",
            "1 x 1 = 1\n",
            "1 x 2 = 2\n",
            "1 x 3 = 3\n",
            "1 x 4 = 4\n",
            "1 x 5 = 5\n",
            "1 x 6 = 6\n",
            "1 x 7 = 7\n",
            "1 x 8 = 8\n",
            "1 x 9 = 9\n",
            "1 x 10 = 10\n",
            "\n",
            "Tabuada do 2\n",
            "  \n",
            "2 x 1 = 2\n",
            "2 x 2 = 4\n",
            "2 x 3 = 6\n",
            "2 x 4 = 8\n",
            "2 x 5 = 10\n",
            "2 x 6 = 12\n",
            "2 x 7 = 14\n",
            "2 x 8 = 16\n",
            "2 x 9 = 18\n",
            "2 x 10 = 20\n",
            "\n",
            "Tabuada do 3\n",
            "  \n",
            "3 x 1 = 3\n",
            "3 x 2 = 6\n",
            "3 x 3 = 9\n",
            "3 x 4 = 12\n",
            "3 x 5 = 15\n",
            "3 x 6 = 18\n",
            "3 x 7 = 21\n",
            "3 x 8 = 24\n",
            "3 x 9 = 27\n",
            "3 x 10 = 30\n",
            "\n",
            "Tabuada do 4\n",
            "  \n",
            "4 x 1 = 4\n",
            "4 x 2 = 8\n",
            "4 x 3 = 12\n",
            "4 x 4 = 16\n",
            "4 x 5 = 20\n",
            "4 x 6 = 24\n",
            "4 x 7 = 28\n",
            "4 x 8 = 32\n",
            "4 x 9 = 36\n",
            "4 x 10 = 40\n",
            "\n",
            "Tabuada do 5\n",
            "  \n",
            "5 x 1 = 5\n",
            "5 x 2 = 10\n",
            "5 x 3 = 15\n",
            "5 x 4 = 20\n",
            "5 x 5 = 25\n",
            "5 x 6 = 30\n",
            "5 x 7 = 35\n",
            "5 x 8 = 40\n",
            "5 x 9 = 45\n",
            "5 x 10 = 50\n",
            "\n",
            "Tabuada do 6\n",
            "  \n",
            "6 x 1 = 6\n",
            "6 x 2 = 12\n",
            "6 x 3 = 18\n",
            "6 x 4 = 24\n",
            "6 x 5 = 30\n",
            "6 x 6 = 36\n",
            "6 x 7 = 42\n",
            "6 x 8 = 48\n",
            "6 x 9 = 54\n",
            "6 x 10 = 60\n"
          ]
        }
      ]
    },
    {
      "cell_type": "code",
      "source": [
        "# NÚMEROS PARES ATÉ 50\n",
        "\n",
        "numero = 0\n",
        "print(f'''Números pares de 0 a 50:\n",
        "''')\n",
        "\n",
        "while numero <= 50:\n",
        "  if numero % 2 == 0:\n",
        "    print(numero)\n",
        "  numero += 1"
      ],
      "metadata": {
        "colab": {
          "base_uri": "https://localhost:8080/"
        },
        "id": "ge6yfyzyyh8l",
        "outputId": "bc3586f0-63b7-4962-8571-d2a59e8570d0"
      },
      "execution_count": null,
      "outputs": [
        {
          "output_type": "stream",
          "name": "stdout",
          "text": [
            "Números pares de 0 a 50:\n",
            "\n",
            "0\n",
            "2\n",
            "4\n",
            "6\n",
            "8\n",
            "10\n",
            "12\n",
            "14\n",
            "16\n",
            "18\n",
            "20\n",
            "22\n",
            "24\n",
            "26\n",
            "28\n",
            "30\n",
            "32\n",
            "34\n",
            "36\n",
            "38\n",
            "40\n",
            "42\n",
            "44\n",
            "46\n",
            "48\n",
            "50\n"
          ]
        }
      ]
    },
    {
      "cell_type": "code",
      "source": [
        "# ADIVINHE O NÚMERO DE 0 A 20\n",
        "\n",
        "from random import randint\n",
        "\n",
        "numero = randint(0, 20)\n",
        "numero_usuario = int(input(\"Tente acerta o número de 0 a 20: \"))\n",
        "\n",
        "while numero_usuario != numero:\n",
        "  print(\"Número incorreto!\")\n",
        "  numero_usuario = int(input(\"Tente novamente: \"))\n",
        "\n",
        "print(\"Número correto. Parabéns!\")"
      ],
      "metadata": {
        "colab": {
          "base_uri": "https://localhost:8080/"
        },
        "id": "foMDUENyzOCG",
        "outputId": "2d5cb49c-7cbf-4e84-ea6d-b029a08d1e6e"
      },
      "execution_count": null,
      "outputs": [
        {
          "output_type": "stream",
          "name": "stdout",
          "text": [
            "Tente acerta o número de 0 a 20: 5\n",
            "Número incorreto!\n",
            "Tente novamente: 7\n",
            "Número incorreto!\n",
            "Tente novamente: 4\n",
            "Número incorreto!\n",
            "Tente novamente: 9\n",
            "Número incorreto!\n",
            "Tente novamente: 6\n",
            "Número incorreto!\n",
            "Tente novamente: 3\n",
            "Número incorreto!\n",
            "Tente novamente: 2\n",
            "Número incorreto!\n",
            "Tente novamente: 14\n",
            "Número incorreto!\n",
            "Tente novamente: 1\n",
            "Número incorreto!\n",
            "Tente novamente: 0\n",
            "Número incorreto!\n",
            "Tente novamente: 5\n",
            "Número incorreto!\n",
            "Tente novamente: 19\n",
            "Número incorreto!\n",
            "Tente novamente: 20\n",
            "Número incorreto!\n",
            "Tente novamente: 13\n",
            "Número incorreto!\n",
            "Tente novamente: 18\n",
            "Número incorreto!\n",
            "Tente novamente: 17\n",
            "Número incorreto!\n",
            "Tente novamente: 16\n",
            "Número incorreto!\n",
            "Tente novamente: 15\n",
            "Número correto. Parabéns!\n"
          ]
        }
      ]
    },
    {
      "cell_type": "code",
      "source": [
        "from random import randint\n",
        "\n",
        "def adivinhe_o_numero():\n",
        "  numero = randint(0, 20)\n",
        "  tentativas = 3\n",
        "\n",
        "  for i in range(tentativas):\n",
        "    numero_usuario = int(input(f\"Tentativa {i+1}/{tentativas} - Adivinhe o número (0 a 20): \"))\n",
        "    if numero_usuario == numero:\n",
        "      print(\"Número correto. Parabéns!\")\n",
        "      return\n",
        "    else:\n",
        "      print(\"Número incorreto!\")\n",
        "\n",
        "  print(f\"Game Over!!!\")\n",
        "  print(f\"O número era {numero}.\")\n",
        "\n",
        "adivinhe_o_numero()"
      ],
      "metadata": {
        "colab": {
          "base_uri": "https://localhost:8080/"
        },
        "id": "vifZuNbwjxam",
        "outputId": "31ff571f-ee29-428d-a504-618d2ea005d5"
      },
      "execution_count": null,
      "outputs": [
        {
          "output_type": "stream",
          "name": "stdout",
          "text": [
            "Tentativa 1/3 - Adivinhe o número (0 a 20): 1\n",
            "Número incorreto!\n",
            "Tentativa 2/3 - Adivinhe o número (0 a 20): 1\n",
            "Número incorreto!\n",
            "Tentativa 3/3 - Adivinhe o número (0 a 20): 1\n",
            "Número incorreto!\n",
            "Game Over!!!\n",
            "O número era 7.\n"
          ]
        }
      ]
    },
    {
      "cell_type": "code",
      "source": [],
      "metadata": {
        "id": "423SLIBykycn"
      },
      "execution_count": null,
      "outputs": []
    }
  ]
}